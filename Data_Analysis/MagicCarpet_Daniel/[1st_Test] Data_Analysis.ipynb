{
 "cells": [
  {
   "cell_type": "markdown",
   "metadata": {},
   "source": [
    "# Magic Carpet"
   ]
  },
  {
   "cell_type": "code",
   "execution_count": 24,
   "metadata": {},
   "outputs": [],
   "source": [
    "import pandas as pd\n",
    "import numpy as np\n",
    "\n",
    "import matplotlib.pyplot as plt\n",
    "\n",
    "import seaborn as sns\n",
    "sns.set()"
   ]
  },
  {
   "cell_type": "markdown",
   "metadata": {},
   "source": [
    "## 1st Test\n"
   ]
  },
  {
   "cell_type": "markdown",
   "metadata": {},
   "source": [
    "### Collisions"
   ]
  },
  {
   "cell_type": "code",
   "execution_count": 4,
   "metadata": {},
   "outputs": [
    {
     "data": {
      "text/html": [
       "<div>\n",
       "<style scoped>\n",
       "    .dataframe tbody tr th:only-of-type {\n",
       "        vertical-align: middle;\n",
       "    }\n",
       "\n",
       "    .dataframe tbody tr th {\n",
       "        vertical-align: top;\n",
       "    }\n",
       "\n",
       "    .dataframe thead th {\n",
       "        text-align: right;\n",
       "    }\n",
       "</style>\n",
       "<table border=\"1\" class=\"dataframe\">\n",
       "  <thead>\n",
       "    <tr style=\"text-align: right;\">\n",
       "      <th></th>\n",
       "      <th>user</th>\n",
       "      <th>technique</th>\n",
       "      <th>collisionCount</th>\n",
       "      <th>timeColliding</th>\n",
       "    </tr>\n",
       "  </thead>\n",
       "  <tbody>\n",
       "    <tr>\n",
       "      <th>0</th>\n",
       "      <td>andreMinion</td>\n",
       "      <td>ElevatorGaze</td>\n",
       "      <td>2</td>\n",
       "      <td>4.931101</td>\n",
       "    </tr>\n",
       "    <tr>\n",
       "      <th>1</th>\n",
       "      <td>danielLopes</td>\n",
       "      <td>ElevatorGaze</td>\n",
       "      <td>2</td>\n",
       "      <td>5.830975</td>\n",
       "    </tr>\n",
       "    <tr>\n",
       "      <th>2</th>\n",
       "      <td>danielMendes</td>\n",
       "      <td>ElevatorGaze</td>\n",
       "      <td>2</td>\n",
       "      <td>6.124748</td>\n",
       "    </tr>\n",
       "    <tr>\n",
       "      <th>3</th>\n",
       "      <td>diogo</td>\n",
       "      <td>ElevatorGaze</td>\n",
       "      <td>2</td>\n",
       "      <td>7.37631</td>\n",
       "    </tr>\n",
       "    <tr>\n",
       "      <th>4</th>\n",
       "      <td>elderGajoAleatorio</td>\n",
       "      <td>ElevatorGaze</td>\n",
       "      <td>2</td>\n",
       "      <td>4.919388</td>\n",
       "    </tr>\n",
       "  </tbody>\n",
       "</table>\n",
       "</div>"
      ],
      "text/plain": [
       "                 user     technique  collisionCount timeColliding\n",
       "0         andreMinion  ElevatorGaze               2      4.931101\n",
       "1         danielLopes  ElevatorGaze               2      5.830975\n",
       "2        danielMendes  ElevatorGaze               2      6.124748\n",
       "3               diogo  ElevatorGaze               2       7.37631\n",
       "4  elderGajoAleatorio  ElevatorGaze               2      4.919388"
      ]
     },
     "execution_count": 4,
     "metadata": {},
     "output_type": "execute_result"
    }
   ],
   "source": [
    "collisions_df = pd.read_csv(\"./1stTest/collisions/collisionOverview.csv\")\n",
    "collisions_df.head()"
   ]
  },
  {
   "cell_type": "code",
   "execution_count": 11,
   "metadata": {},
   "outputs": [
    {
     "data": {
      "text/plain": [
       "ElevatorGaze    18\n",
       "GazeOriented    18\n",
       "HandSteering    18\n",
       "Name: technique, dtype: int64"
      ]
     },
     "execution_count": 11,
     "metadata": {},
     "output_type": "execute_result"
    }
   ],
   "source": [
    "collisions_df['technique'].value_counts()\n"
   ]
  },
  {
   "cell_type": "markdown",
   "metadata": {},
   "source": [
    "#### Summary Statistics"
   ]
  },
  {
   "cell_type": "code",
   "execution_count": 9,
   "metadata": {},
   "outputs": [
    {
     "data": {
      "text/html": [
       "<div>\n",
       "<style scoped>\n",
       "    .dataframe tbody tr th:only-of-type {\n",
       "        vertical-align: middle;\n",
       "    }\n",
       "\n",
       "    .dataframe tbody tr th {\n",
       "        vertical-align: top;\n",
       "    }\n",
       "\n",
       "    .dataframe thead th {\n",
       "        text-align: right;\n",
       "    }\n",
       "</style>\n",
       "<table border=\"1\" class=\"dataframe\">\n",
       "  <thead>\n",
       "    <tr style=\"text-align: right;\">\n",
       "      <th></th>\n",
       "      <th>collisionCount</th>\n",
       "      <th>timeColliding</th>\n",
       "    </tr>\n",
       "  </thead>\n",
       "  <tbody>\n",
       "    <tr>\n",
       "      <th>count</th>\n",
       "      <td>54.000000</td>\n",
       "      <td>53.000000</td>\n",
       "    </tr>\n",
       "    <tr>\n",
       "      <th>mean</th>\n",
       "      <td>2.018519</td>\n",
       "      <td>5.399741</td>\n",
       "    </tr>\n",
       "    <tr>\n",
       "      <th>std</th>\n",
       "      <td>0.237180</td>\n",
       "      <td>1.213620</td>\n",
       "    </tr>\n",
       "    <tr>\n",
       "      <th>min</th>\n",
       "      <td>1.000000</td>\n",
       "      <td>1.991535</td>\n",
       "    </tr>\n",
       "    <tr>\n",
       "      <th>25%</th>\n",
       "      <td>2.000000</td>\n",
       "      <td>4.931101</td>\n",
       "    </tr>\n",
       "    <tr>\n",
       "      <th>50%</th>\n",
       "      <td>2.000000</td>\n",
       "      <td>5.376392</td>\n",
       "    </tr>\n",
       "    <tr>\n",
       "      <th>75%</th>\n",
       "      <td>2.000000</td>\n",
       "      <td>6.196342</td>\n",
       "    </tr>\n",
       "    <tr>\n",
       "      <th>max</th>\n",
       "      <td>3.000000</td>\n",
       "      <td>7.726841</td>\n",
       "    </tr>\n",
       "  </tbody>\n",
       "</table>\n",
       "</div>"
      ],
      "text/plain": [
       "       collisionCount  timeColliding\n",
       "count       54.000000      53.000000\n",
       "mean         2.018519       5.399741\n",
       "std          0.237180       1.213620\n",
       "min          1.000000       1.991535\n",
       "25%          2.000000       4.931101\n",
       "50%          2.000000       5.376392\n",
       "75%          2.000000       6.196342\n",
       "max          3.000000       7.726841"
      ]
     },
     "execution_count": 9,
     "metadata": {},
     "output_type": "execute_result"
    }
   ],
   "source": [
    "# Convert 'timeColliding' to numeric type\n",
    "collisions_df['timeColliding'] = pd.to_numeric(collisions_df['timeColliding'], errors='coerce')\n",
    "\n",
    "# Summary statistics for collisionCount and timeColliding\n",
    "summary_stats = collisions_df[['collisionCount', 'timeColliding']].describe()\n",
    "summary_stats"
   ]
  },
  {
   "cell_type": "markdown",
   "metadata": {},
   "source": [
    "Most users experienced around 2 collisions with a mean time of 5.40 seconds spent colliding."
   ]
  },
  {
   "cell_type": "markdown",
   "metadata": {},
   "source": [
    "#### Comparison Between Techniques"
   ]
  },
  {
   "cell_type": "code",
   "execution_count": 10,
   "metadata": {},
   "outputs": [
    {
     "data": {
      "text/html": [
       "<div>\n",
       "<style scoped>\n",
       "    .dataframe tbody tr th:only-of-type {\n",
       "        vertical-align: middle;\n",
       "    }\n",
       "\n",
       "    .dataframe tbody tr th {\n",
       "        vertical-align: top;\n",
       "    }\n",
       "\n",
       "    .dataframe thead th {\n",
       "        text-align: right;\n",
       "    }\n",
       "</style>\n",
       "<table border=\"1\" class=\"dataframe\">\n",
       "  <thead>\n",
       "    <tr style=\"text-align: right;\">\n",
       "      <th></th>\n",
       "      <th>technique</th>\n",
       "      <th>collisionCount</th>\n",
       "      <th>timeColliding</th>\n",
       "    </tr>\n",
       "  </thead>\n",
       "  <tbody>\n",
       "    <tr>\n",
       "      <th>0</th>\n",
       "      <td>ElevatorGaze</td>\n",
       "      <td>2.000000</td>\n",
       "      <td>6.179827</td>\n",
       "    </tr>\n",
       "    <tr>\n",
       "      <th>1</th>\n",
       "      <td>GazeOriented</td>\n",
       "      <td>2.000000</td>\n",
       "      <td>5.650001</td>\n",
       "    </tr>\n",
       "    <tr>\n",
       "      <th>2</th>\n",
       "      <td>HandSteering</td>\n",
       "      <td>2.055556</td>\n",
       "      <td>4.383300</td>\n",
       "    </tr>\n",
       "  </tbody>\n",
       "</table>\n",
       "</div>"
      ],
      "text/plain": [
       "      technique  collisionCount  timeColliding\n",
       "0  ElevatorGaze        2.000000       6.179827\n",
       "1  GazeOriented        2.000000       5.650001\n",
       "2  HandSteering        2.055556       4.383300"
      ]
     },
     "execution_count": 10,
     "metadata": {},
     "output_type": "execute_result"
    }
   ],
   "source": [
    "# Calculate mean collisionCount and timeColliding for each technique\n",
    "technique_comparison = collisions_df.groupby('technique').agg({\n",
    "    'collisionCount': 'mean',\n",
    "    'timeColliding': 'mean'\n",
    "}).reset_index()\n",
    "\n",
    "technique_comparison"
   ]
  },
  {
   "cell_type": "code",
   "execution_count": 29,
   "metadata": {},
   "outputs": [
    {
     "data": {
      "image/png": "[encoded data removed]",
      "text/plain": [
       "<Figure size 700x500 with 1 Axes>"
      ]
     },
     "metadata": {},
     "output_type": "display_data"
    }
   ],
   "source": [
    "# Further enhancing the boxplot for a more professional look\n",
    "plt.figure(figsize=(7, 5))\n",
    "sns.boxplot(x='technique', y='timeColliding', data=collisions_df, palette='coolwarm', linewidth=2.5)\n",
    "\n",
    "# Adding enhancements for a professional look\n",
    "plt.title('Time Colliding by Technique', fontsize=20, weight='bold', pad=20)\n",
    "plt.xlabel('Technique', fontsize=16, weight='bold')\n",
    "plt.ylabel('Time Colliding (seconds)', fontsize=16, weight='bold')\n",
    "plt.xticks(fontsize=14, weight='bold')\n",
    "plt.yticks(fontsize=14, weight='bold')\n",
    "plt.grid(True, linestyle='--', alpha=0.6)\n",
    "\n",
    "# Adding mean markers with improved styling\n",
    "mean_values = collisions_df.groupby('technique')['timeColliding'].mean().values\n",
    "for i, mean in enumerate(mean_values):\n",
    "    plt.text(i, mean + 0.1, f'{mean:.2f}', ha='center', color='black', weight='bold', fontsize=12, bbox=dict(facecolor='white', edgecolor='black', boxstyle='round,pad=0.3'))\n",
    "\n",
    "plt.show()\n"
   ]
  },
  {
   "cell_type": "markdown",
   "metadata": {},
   "source": [
    "- All techniques have a similar mean collisionCount of around 2.\n",
    "- HandSteering has the lowest mean timeColliding (4.38 seconds), indicating it might be more efficient in avoiding prolonged collisions.\n",
    "- ElevatorGaze has the highest mean timeColliding (6.18 seconds)"
   ]
  },
  {
   "cell_type": "markdown",
   "metadata": {},
   "source": [
    "HandSteering appears to be the most efficient technique in terms of reducing time spent in collisions. \n",
    "With HandSteering you have more awareness"
   ]
  },
  {
   "cell_type": "markdown",
   "metadata": {},
   "source": [
    "#### Correlation"
   ]
  },
  {
   "cell_type": "code",
   "execution_count": 12,
   "metadata": {},
   "outputs": [
    {
     "data": {
      "text/html": [
       "<div>\n",
       "<style scoped>\n",
       "    .dataframe tbody tr th:only-of-type {\n",
       "        vertical-align: middle;\n",
       "    }\n",
       "\n",
       "    .dataframe tbody tr th {\n",
       "        vertical-align: top;\n",
       "    }\n",
       "\n",
       "    .dataframe thead th {\n",
       "        text-align: right;\n",
       "    }\n",
       "</style>\n",
       "<table border=\"1\" class=\"dataframe\">\n",
       "  <thead>\n",
       "    <tr style=\"text-align: right;\">\n",
       "      <th></th>\n",
       "      <th>collisionCount</th>\n",
       "      <th>timeColliding</th>\n",
       "    </tr>\n",
       "  </thead>\n",
       "  <tbody>\n",
       "    <tr>\n",
       "      <th>collisionCount</th>\n",
       "      <td>1.000000</td>\n",
       "      <td>0.112889</td>\n",
       "    </tr>\n",
       "    <tr>\n",
       "      <th>timeColliding</th>\n",
       "      <td>0.112889</td>\n",
       "      <td>1.000000</td>\n",
       "    </tr>\n",
       "  </tbody>\n",
       "</table>\n",
       "</div>"
      ],
      "text/plain": [
       "                collisionCount  timeColliding\n",
       "collisionCount        1.000000       0.112889\n",
       "timeColliding         0.112889       1.000000"
      ]
     },
     "execution_count": 12,
     "metadata": {},
     "output_type": "execute_result"
    }
   ],
   "source": [
    "# Calculate the correlation between collisionCount and timeColliding\n",
    "correlation = collisions_df[['collisionCount', 'timeColliding']].corr()\n",
    "correlation\n"
   ]
  },
  {
   "cell_type": "markdown",
   "metadata": {},
   "source": [
    "There is a weak correlation between collision count and time spent colliding, indicating that the two measures may not be strongly related."
   ]
  },
  {
   "cell_type": "markdown",
   "metadata": {},
   "source": [
    "### Collisions Comparison "
   ]
  }
 ],
 "metadata": {
  "kernelspec": {
   "display_name": "Python 3",
   "language": "python",
   "name": "python3"
  },
  "language_info": {
   "codemirror_mode": {
    "name": "ipython",
    "version": 3
   },
   "file_extension": ".py",
   "mimetype": "text/x-python",
   "name": "python",
   "nbconvert_exporter": "python",
   "pygments_lexer": "ipython3",
   "version": "3.1.-1"
  }
 },
 "nbformat": 4,
 "nbformat_minor": 2
}
